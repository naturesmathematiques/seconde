{
 "cells": [
  {
   "cell_type": "markdown",
   "metadata": {},
   "source": [
    "# Module Python 2\n",
    "\n",
    "En cours d'algorithmique, nous avons vu comment manipuler les étiquettes ou variables et comment changer d'avis...\n",
    "\n",
    "Nous allons maintenant en programmation, les utiliser pour résoudre des questions courantes de mathématiques.\n",
    "\n",
    "### Exercice 1\n",
    "\n",
    "Soit $A(2;3)$ un point du plan repéré (repère orthonormé). Soit $M$ un point quelconque.\n",
    "\n",
    "On souhaite savoir si le point $M$ est à l'intérieur ou à l'extérieur du cercle de centre $A$ et de rayon 5.\n",
    "\n",
    "<IMG SRC=\"cercle1.png\">\n",
    "\n",
    "Rappel : \n",
    "\n",
    "Soient $A(x_A;y_A)$ et $B(x_M;y_M)$ deux points du plan repéré (repère orthonormé). La distance $AM$ est calculée par $AM=\\sqrt{(x_B-x_M)^2+(y_B-y_M)^2}$.\n",
    "\n",
    "Dans le cadre de code ci-dessous, compléter le programme Python qui demande les coordonnées de $M$ et qui affiche si le point $M$ est à l'intérieur du cercle de centre $A$ et de rayon 5.\n"
   ]
  },
  {
   "cell_type": "code",
   "execution_count": null,
   "metadata": {},
   "outputs": [],
   "source": [
    "# on importe la fonction sqrt qui calcule la racine carrée\n",
    "\n",
    "from math import sqrt\n",
    "\n",
    "# en Python, le carré s'écrit **2\n",
    "\n",
    "xA = 2\n",
    "yA = 3\n",
    "\n",
    "xM = ...\n",
    "yM = ...\n",
    "\n",
    "AM = sqrt( (...)**2 + (...)**2 )\n",
    "\n",
    "if ..."
   ]
  },
  {
   "cell_type": "markdown",
   "metadata": {},
   "source": [
    "Recopiez votre solution de l'exercice 1 sur votre compte-rendu.\n",
    "\n",
    "### Exercice 2\n",
    "\n",
    "Soient $A(2;3)$ et $B(5;6)$ deux points du plan repéré (repère orthonormé). Soit $M$ un point quelconque.\n",
    "\n",
    "On a tracé la médiatrice de $[AB]$ en rouge sur la figure.\n",
    "\n",
    "<IMG SRC=\"mediatrice1.png\">\n",
    "\n",
    "À quelle condition $M$ est-il sur la médiatrice de $[AB]$ ?\n",
    "\n",
    "Dans le cadre de code ci-dessous, compléter le programme Python qui demande les coordonnées de $M$ et qui affiche si le point $M$ est sur la médiatrice de $[AB]$ ou non."
   ]
  },
  {
   "cell_type": "code",
   "execution_count": null,
   "metadata": {},
   "outputs": [],
   "source": [
    "# on importe la fonction sqrt qui calcule la racine carrée\n",
    "from math import sqrt\n",
    "\n",
    "xA = 2\n",
    "yA = 3\n",
    "xB = 5\n",
    "yB = 6\n",
    "\n",
    "xM = ...\n",
    "yM = ...\n",
    "\n",
    "MA = sqrt( (...)**2 + (...)**2 )\n",
    "MB = ...\n",
    "\n",
    "if ..."
   ]
  },
  {
   "cell_type": "markdown",
   "metadata": {},
   "source": [
    "Recopiez votre solution de l'exercice 2 sur votre compte-rendu.\n",
    "\n",
    "### Exercice 3\n",
    "Soient $A(2;3)$ et $B(5;6)$ deux points du plan repéré (repère orthonormé). Soit $M$ un point quelconque.\n",
    "\n",
    "À quelle condition $ABM$ est-il un triangle rectangle en $M$ ?\n",
    "\n",
    "Dans le cadre de code ci-dessous, compléter le programme Python qui demande les coordonnées de $M$ et qui affiche si le triangle $ABM$ est un triangle rectangle en $M$ ou non."
   ]
  },
  {
   "cell_type": "code",
   "execution_count": null,
   "metadata": {},
   "outputs": [],
   "source": [
    "# on importe la fonction sqrt qui calcule la racine carrée\n",
    "from math import sqrt\n",
    "\n",
    "xA = 2\n",
    "yA = 3\n",
    "xB = 5\n",
    "yB = 6\n",
    "AB = sqrt( (xB-xA)**2 + (yB-yA)**2 )\n",
    "\n",
    "xM = ...\n",
    "yM = ...\n",
    "\n",
    "MA = sqrt( (...)**2 + (...)**2 )\n",
    "MB = ...\n",
    "\n",
    "if ..."
   ]
  },
  {
   "cell_type": "markdown",
   "metadata": {},
   "source": [
    "Recopiez votre solution de l'exercice 3 sur votre compte-rendu.\n",
    "\n",
    "## Alternatives imbriquées\n",
    "\n",
    "### Exercice 4\n",
    "\n",
    "Soit $A(2;3)$ un point du plan repéré (repère orthonormé). Soit $M$ un point quelconque.\n",
    "\n",
    "On souhaite savoir si le point $M$ est à l'intérieur, à l'extérieur ou sur le cercle de centre $A$ et de rayon 5.\n",
    "\n",
    "<IMG SRC=\"cercle1.png\">\n",
    "\n",
    "Dans le cadre de code ci-dessous, compléter le programme Python qui demande les coordonnées de $M$ et qui affiche si le point $M$ est à l'intérieur, à l'extérieur ou sur le cercle de centre $A$ et de rayon 5."
   ]
  },
  {
   "cell_type": "code",
   "execution_count": null,
   "metadata": {},
   "outputs": [],
   "source": [
    "# on importe la fonction sqrt qui calcule la racine carrée\n",
    "from math import sqrt\n",
    "\n",
    "xA = 2\n",
    "yA = 3\n",
    "\n",
    "xM = eval(input(\"Entrez l'abscisse de M :\"))\n",
    "yM = eval(input(\"Entrez l'ordonnée de M :\"))\n",
    "\n",
    "AM = sqrt( (xM-xA)**2 + (yM-yA)**2 )\n",
    "\n",
    "if ..."
   ]
  },
  {
   "cell_type": "markdown",
   "metadata": {},
   "source": [
    "Recopiez votre solution de l'exercice 4 sur votre compte-rendu.\n",
    "\n",
    "## Alternatives imbriquées (suite)\n",
    "\n",
    "Le si imbriqué n'est pas forcément dans le sinon.\n",
    "\n",
    "Par exemple, pour montrer qu'un triangle est équilatéral. On vérifie d'abord qu'il a deux côtés égaux et si c'est le cas, on vérifie si le troisième côté a la même longueur que les premiers.\n",
    "\n",
    "### Exemple 1\n",
    "\n",
    "Exécutez le code suivant plusieurs fois avec des longueurs permettant de tester tous les cas. Imaginez dans chaque cas le chemin parcouru dans le code."
   ]
  },
  {
   "cell_type": "code",
   "execution_count": null,
   "metadata": {},
   "outputs": [],
   "source": [
    "AB = eval(input(\"Entrez la longueur du côté [AB]: \"))\n",
    "AC = eval(input(\"Entrez la longueur du côté [AC]: \"))\n",
    "BC = eval(input(\"Entrez la longueur du côté [BC]: \"))\n",
    "\n",
    "if AB == AC:\n",
    "    if AC == BC:\n",
    "        print(\"ABC est équilatéral\")\n",
    "    else:\n",
    "        print(\"ABC n'est pas équilatéral mais il est isocèle en A\")\n",
    "else:\n",
    "    print(\"ABC n'est pas équilatéral mais il est peut être isocèle en B ou C\")"
   ]
  },
  {
   "cell_type": "markdown",
   "metadata": {},
   "source": [
    "### Exercice 5\n",
    "\n",
    "Soient $A$, $B$, $C$ et $D$ quatre points du plan repéré.\n",
    "\n",
    "À quelle condition $ABCD$ est-il un parallélogramme ?\n",
    "\n",
    "Dans le cadre de code ci-dessous, compléter le programme Python qui dit si le quadrilatère $ABCD$ est un parallélogramme ou non.\n",
    "\n",
    "\n",
    "On rappelle que les coordonnées de $I$ milieu de $[AB]$ sont $x_I=\\dfrac{x_A+x_B}{2}$ et $y_I=\\dfrac{y_A+y_B}{2}$."
   ]
  },
  {
   "cell_type": "code",
   "execution_count": null,
   "metadata": {},
   "outputs": [],
   "source": [
    "xA = 2\n",
    "yA = 3\n",
    "xB = 5\n",
    "yB = 6\n",
    "xC = 7\n",
    "yC = 8\n",
    "xD = 4\n",
    "yD = 5\n",
    "\n",
    "xmilieuAC = \n",
    "ymilieuAC = \n",
    "xmilieuBD = \n",
    "ymilieuBD = \n",
    "\n",
    "if ..."
   ]
  },
  {
   "cell_type": "markdown",
   "metadata": {},
   "source": [
    "Recopiez votre solution de l'exercice 5 sur votre compte-rendu.\n",
    "\n",
    "## Un exemple complexe\n",
    "\n",
    "Lisez et exécutez les deux codes suivants (c'est le même programme, l'un est commenté pour comprendre, l'autre ne l'est pas pour être plus lisible).\n",
    "\n",
    "### Exemple 2 (commenté)"
   ]
  },
  {
   "cell_type": "code",
   "execution_count": null,
   "metadata": {},
   "outputs": [],
   "source": [
    "AB = eval(input(\"Entrez la longueur du côté [AB]: \"))\n",
    "AC = eval(input(\"Entrez la longueur du côté [AC]: \"))\n",
    "BC = eval(input(\"Entrez la longueur du côté [BC]: \"))\n",
    "\n",
    "if AB == AC:\n",
    "    # On a AB = AC, est que le troisième côté est aussi égal aux premiers ?\n",
    "    if AC == BC:\n",
    "        # On a AB = AC et aussi AC = BC donc les trois côtés sont égaux\n",
    "        print(\"ABC est équilatéral\")\n",
    "    else:\n",
    "        # on a AB = AC mais BC est différent donc seulement deux côtés égaux\n",
    "        print(\"ABC est isocèle en A\")\n",
    "else:\n",
    "    # les deux premiers côtés [AB] et [AC] sont de longueurs différentes\n",
    "    # ABC ne peut donc plus être équilatéral mais il peut encore être isocèle\n",
    "    if AB == BC:\n",
    "        # ici, on a AB différent de AC mais AB = BC\n",
    "        print(\"ABC est isocèle en B\")\n",
    "    else:\n",
    "        # ici, on a AB différent de AC et de BC\n",
    "        if AC == BC:\n",
    "            print(\"ABC est isocèle en C\")\n",
    "        else:\n",
    "            # ici on n'a aucun côté de la même longueur.\n",
    "            print(\"ABC est scalène\")\n"
   ]
  },
  {
   "cell_type": "markdown",
   "metadata": {},
   "source": [
    "### Exemple 2 (non commenté)\n",
    "\n",
    "Exécutez le code suivant plusieurs fois avec des longueurs permettant de tester tous les cas. Imaginez dans chaque cas le chemin parcouru dans le code."
   ]
  },
  {
   "cell_type": "code",
   "execution_count": null,
   "metadata": {},
   "outputs": [],
   "source": [
    "AB = eval(input(\"Entrez la longueur du côté [AB]: \"))\n",
    "AC = eval(input(\"Entrez la longueur du côté [AC]: \"))\n",
    "BC = eval(input(\"Entrez la longueur du côté [BC]: \"))\n",
    "\n",
    "if AB == AC:\n",
    "    if AC == BC:\n",
    "        print(\"ABC est équilatéral\")\n",
    "    else:\n",
    "        print(\"ABC est isocèle en A\")\n",
    "else:\n",
    "    if AB == BC:\n",
    "        print(\"ABC est isocèle en B\")\n",
    "    else:\n",
    "        if AC == BC:\n",
    "            print(\"ABC est isocèle en C\")\n",
    "        else:\n",
    "            print(\"ABC est scalène\")\n"
   ]
  },
  {
   "cell_type": "markdown",
   "metadata": {},
   "source": [
    "### Exercice 6 : Défi\n",
    "\n",
    "Soient $A$, $B$, $C$ et $D$ quatre points du plan repéré (repère orthonormé).\n",
    "\n",
    "À quelle condition $ABCD$ est-il un parallélogramme ?\n",
    "\n",
    "À quelle condition $ABCD$ est-il un rectangle ?\n",
    "\n",
    "À quelle condition $ABCD$ est-il un losange ?\n",
    "\n",
    "À quelle condition $ABCD$ est-il un carré ?\n",
    "\n",
    "Dans le cadre de code ci-dessous, compléter le programme Python qui donne la nature du quadrilatère $ABCD$ la plus précise possible."
   ]
  },
  {
   "cell_type": "code",
   "execution_count": null,
   "metadata": {},
   "outputs": [],
   "source": [
    "# on importe la fonction sqrt qui calcule la racine carrée\n",
    "from math import sqrt\n",
    "\n",
    "xA = 2\n",
    "yA = 3\n",
    "xB = 5\n",
    "yB = 6\n",
    "xC = 7\n",
    "yC = 8\n",
    "xD = 4\n",
    "yD = 5\n",
    "\n",
    "xmilieuAC = \n",
    "ymilieuAC = \n",
    "xmilieuBD = \n",
    "ymilieuBD = \n",
    "\n",
    "AB = sqrt( (xB-xA)**2 + (yB-yA)**2 )\n",
    "AC = sqrt( (xC-xA)**2 + (yC-yA)**2 )\n",
    "AD = sqrt( (xD-xA)**2 + (yD-yA)**2 )\n",
    "BC = sqrt( (xC-xB)**2 + (yC-yB)**2 )\n",
    "BD = sqrt( (xD-xB)**2 + (yD-yB)**2 )\n",
    "CD = sqrt( (xD-xC)**2 + (yD-yC)**2 )\n",
    "\n",
    "if ..."
   ]
  },
  {
   "cell_type": "markdown",
   "metadata": {},
   "source": [
    "### Vérification\n",
    "\n",
    "Pour vérifier que votre programme fonctionne bien...\n",
    "\n",
    "1. Choisir 4 points A, B, C et D formant un carré ABCD et remplacer les coordonnées des 4 points dans le début du programme.\n",
    "2. Choisir 4 points A, B, C et D formant un rectangle ABCD et remplacer les coordonnées des 4 points dans le début du programme. \n",
    "3. Choisir 4 points A, B, C et D formant un losange ABCD et remplacer les coordonnées des 4 points dans le début du programme.\n",
    "4. Choisir 4 points A, B, C et D ne formant rien de particulier et remplacer les coordonnées des 4 points dans le début du programme. "
   ]
  }
 ],
 "metadata": {
  "kernelspec": {
   "display_name": "Python 3",
   "language": "python",
   "name": "python3"
  },
  "language_info": {
   "codemirror_mode": {
    "name": "ipython",
    "version": 3
   },
   "file_extension": ".py",
   "mimetype": "text/x-python",
   "name": "python",
   "nbconvert_exporter": "python",
   "pygments_lexer": "ipython3",
   "version": "3.6.4"
  }
 },
 "nbformat": 4,
 "nbformat_minor": 2
}
