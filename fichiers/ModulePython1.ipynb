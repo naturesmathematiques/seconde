{
 "cells": [
  {
   "cell_type": "markdown",
   "metadata": {},
   "source": [
    "# Module Python 1\n",
    "\n",
    "En cours d'algorithmique, nous avons vu comment manipuler les étiquettes ou variables.\n",
    "\n",
    "Nous allons maintenant en programmation, les utiliser pour résoudre des questions courantes de mathématiques.\n",
    "\n",
    "## Entrée des données (texte)\n",
    "\n",
    "Pour cela, nous avons besoin de pouvoir entrer des valeurs et écrire des résultats à l'écran.\n",
    "\n",
    "Pour demander à Python ce que l'utilisateur écrit sur son clavier, on utilise la fonction : `input`.\n",
    "\n",
    "Elle s'utilise ainsi : `texte = input(\"question à afficher\")`.\n",
    "\n",
    "Python affiche alors la question à afficher sans les guillemets et attend le texte tapé au clavier par l'utilisateur.\n",
    "Python sait que le texte est terminé lorsque l'utilisateur a tapé sur la touche entrée.\n",
    "\n",
    "### Exemple 1\n",
    "Lisez et exécutez le code suivant"
   ]
  },
  {
   "cell_type": "code",
   "execution_count": null,
   "metadata": {},
   "outputs": [],
   "source": [
    "prénom = input(\"Entrez votre prénom : \")"
   ]
  },
  {
   "cell_type": "markdown",
   "metadata": {},
   "source": [
    "## Affichage des résultats\n",
    "\n",
    "Une fois le texte entré, Python peut l'afficher à l'écran avec la fonction `print`.\n",
    "\n",
    "Elle s'utilise ainsi : `print(objet1, objet2, objet 3, ...)`.\n",
    "\n",
    "Python affiche alors les objets les uns à la suite des autres. Les objets peuvent être des étiquettes ou variables ou des morceaux de texte compris entre guillemets.\n",
    "\n",
    "### Exemple 2\n",
    "Lisez et exécutez le code suivant"
   ]
  },
  {
   "cell_type": "code",
   "execution_count": null,
   "metadata": {},
   "outputs": [],
   "source": [
    "print(\"Votre prénom est\",prénom,\".\")"
   ]
  },
  {
   "cell_type": "markdown",
   "metadata": {},
   "source": [
    "### Exercice 1\n",
    "\n",
    "Dans le cadre de code ci-dessous, écrire un programme Python qui demande votre âge et l'affiche. Pour vous aider, relisez l'exemple 1 et l'exemple 2."
   ]
  },
  {
   "cell_type": "code",
   "execution_count": null,
   "metadata": {},
   "outputs": [],
   "source": [
    "# cadre de code où écrire le programme de l'exercice 1\n"
   ]
  },
  {
   "cell_type": "markdown",
   "metadata": {},
   "source": [
    "Recopiez votre solution de l'exercice 1 sur votre compte-rendu.\n",
    "\n",
    "## Entrée des données (valeurs)\n",
    "\n",
    "### Exemple 3\n",
    "Lisez et exécutez le code suivant"
   ]
  },
  {
   "cell_type": "code",
   "execution_count": null,
   "metadata": {},
   "outputs": [],
   "source": [
    "texte = input(\"Entrez ce que vous souhaitez au clavier (lettres, chiffres, autres...) : \")\n",
    "print(\"Vous avez tapé \",texte)"
   ]
  },
  {
   "cell_type": "markdown",
   "metadata": {},
   "source": [
    "Dans le code précédent, Python ne comprend pas ce que vous avez tapé.\n",
    "\n",
    "Quand on tape quelquechose au clavier, Python range les touches frappées les unes après les autres dans sa mémoire comme s'il mettait bout à bout les maillons d'une chaîne.\n",
    "\n",
    "Pour lui, c'est une chaîne de caractères. Il ne fait pas de différence entre le caractère \"a\", le caractère \"2\" ou le caractère \"?\".\n",
    "\n",
    "En voici une repésentation quand on demande un texte.\n",
    "\n",
    "<IMG SRC=\"chaine1.png\">\n",
    "\n",
    "Si on entre le nombre 1670 par exemple, Python ne voit que la chaîne de caractères tapés pour écrire ce nombre.\n",
    "\n",
    "<IMG SRC=\"chaine2.png\">\n",
    "\n",
    "Si vous souhaitez que Python le comprenne, il faut l'évaluer.\n",
    "\n",
    "Pour demander à Python d'évaluer ce que l'utilisateur écrit sur son clavier, on utilise la fonction : `eval`.\n",
    "\n",
    "Elle s'utilise ainsi : `valeur = eval(\"texte représentant un nombre\")`.\n",
    "\n",
    "Remarque : La fonction `eval` fait le calcul entré par l'utilisateur. Le \"calcul\" peut être un simple nombre.\n",
    "\n",
    "<FONT color=\"red\"> **On utilise en général eval devant input seulement.** </FONT>\n",
    "\n",
    "<IMG SRC=\"chaine3.png\">\n",
    "\n",
    "### Exemple 4\n",
    "Lisez et exécutez le code suivant"
   ]
  },
  {
   "cell_type": "code",
   "execution_count": null,
   "metadata": {},
   "outputs": [],
   "source": [
    "texte = input(\"Entrer un nombre : \")\n",
    "print(\"Vous avez entré un nombre sous forme de texte : \",texte)\n",
    "\n",
    "résultat = eval(input(\"Entrer le même nombre : \"))\n",
    "\n",
    "print(\"C'est le nombre : \", résultat, \" dont le nombre suivant est \", résultat + 1 )\n",
    "print(\"Mais on ne peut pas calculer avec un texte\")\n",
    "suivant = 1 + texte"
   ]
  },
  {
   "cell_type": "markdown",
   "metadata": {},
   "source": [
    "Python ne comprend pas la ligne 6, il dit qu'il y a une erreur de type. \n",
    "### Exercice 2\n",
    "\n",
    "Dans le cadre de code ci-dessous, écrire un programme Python qui demande l'âge que vous aurez cette année et qui affiche votre année de naissance.\n",
    "\n",
    "Attention, il faudra bien faire attention que la variable **âge** soit un nombre. <FONT color=\"red\"> **On utilise en général eval devant input seulement.** </FONT>"
   ]
  },
  {
   "cell_type": "code",
   "execution_count": null,
   "metadata": {},
   "outputs": [],
   "source": [
    "# cadre de code où écrire le programme de l'exercice 2\n"
   ]
  },
  {
   "cell_type": "markdown",
   "metadata": {},
   "source": [
    "Recopiez votre solution de l'exercice 2 sur votre compte-rendu.\n",
    "\n",
    "## Alternatives\n",
    "\n",
    "Nous avons vu en cours que Python pouvait réagir différemment selon certaines conditions.\n",
    "\n",
    "En voici un exemple pour se rappeler comment cela se présente.\n",
    "\n",
    "### Exemple 5\n",
    "\n",
    "Faire fonctionner plusieurs fois le programme ci-dessous et essayez d'obtenir les deux résultats possibles."
   ]
  },
  {
   "cell_type": "code",
   "execution_count": null,
   "metadata": {},
   "outputs": [],
   "source": [
    "age = eval(input(\"Entrez votre âge : \")) # remarquez eval pour obtenir un nombre\n",
    "if age < 18:\n",
    "    print(\"Vous êtes mineur.\")\n",
    "else:\n",
    "    print(\"Vous êtes majeur.\")"
   ]
  },
  {
   "cell_type": "markdown",
   "metadata": {},
   "source": [
    "Rappels :\n",
    "- if signifie si\n",
    "- else signifie sinon\n",
    "- les blocs d'instructions sont annoncés par les deux points : et commencent par le même nombre d'espaces.\n",
    "\n",
    "### Exercice 3\n",
    "\n",
    "Voici un algorithme qui permet de savoir s'il gèle ou non.\n",
    "\n",
    "demander la température<br>\n",
    "**si** la tempéature est négative **alors**<br>\n",
    "&nbsp; | &nbsp;&nbsp; Afficher \"Il gèle.\"<br>\n",
    "**sinon**<br>\n",
    "&nbsp;  | &nbsp;&nbsp; Afficher \"Il ne gèle pas.\"<br>\n",
    "**fin**<br>\n",
    "\n",
    "Dans le cadre de code ci-dessous, écrire un programme Python qui demande la température extérieure (météo) et qui écrit s'il gèle ou non.\n",
    "\n"
   ]
  },
  {
   "cell_type": "code",
   "execution_count": null,
   "metadata": {},
   "outputs": [],
   "source": [
    "# cadre de code où écrire le programme de l'exercice 3\n"
   ]
  },
  {
   "cell_type": "markdown",
   "metadata": {},
   "source": [
    "Recopiez votre solution de l'exercice 3 sur votre compte-rendu.\n",
    "\n",
    "### Exercice 4\n",
    "\n",
    "Dans le cadre de code ci-dessous, écrire un programme Python qui demande les longueurs des trois côtés $AB$, $AC$ et $BC$ d'un triangle $ABC$ et qui écrit si le triangle est rectangle en $A$ ou non.\n",
    "\n",
    "Attention : l'égalité en Python se note avec `==` et le carré se note `**2`."
   ]
  },
  {
   "cell_type": "code",
   "execution_count": null,
   "metadata": {},
   "outputs": [],
   "source": [
    "# cadre de code où écrire le programme de l'exercice 4\n"
   ]
  },
  {
   "cell_type": "markdown",
   "metadata": {},
   "source": [
    "Recopiez votre solution de l'exercice 4 sur votre compte-rendu.\n",
    "\n",
    "## Alternatives imbriquées\n",
    "\n",
    "Il peut parfois être utile d'ajouter des conditions à d'autres pour affiner la précision du résultat.\n",
    "\n",
    "Par exemple, Si l'état de l'eau n'est pas solide (eau gelée), il peut être liquide ou gazeux (vapeur d'eau).\n",
    "\n",
    "<IMG SRC=\"imbriquer.png\">\n",
    "\n",
    "Voici comment le traduire en algorithme.\n",
    "\n",
    "demander la température<br>\n",
    "**si** la tempéature est négative **alors**<br>\n",
    "&nbsp; | &nbsp;&nbsp; Afficher \"L'eau est solide (gelée).\"<br>\n",
    "**sinon**<br>\n",
    "&nbsp;  | &nbsp;&nbsp;&nbsp;&nbsp; <FONT color=\"red\">on sait ici que l'eau n'est pas solide, on teste si elle est liquide ou gaz</FONT><br>\n",
    "&nbsp;  | &nbsp;&nbsp;&nbsp;&nbsp;**si** la température est inférieure à 100 **alors**<br>\n",
    "&nbsp;  | &nbsp;&nbsp;&nbsp;&nbsp;&nbsp; | &nbsp;&nbsp; Afficher \"L'eau est liquide.\"<br>\n",
    "&nbsp;  | &nbsp;&nbsp;&nbsp;&nbsp;**sinon**<br>\n",
    "&nbsp;  | &nbsp;&nbsp;&nbsp;&nbsp;&nbsp;  | &nbsp;&nbsp; Afficher \"L'eau est gaz (vapeur d'eau).\"<br>\n",
    "&nbsp;  | &nbsp;&nbsp;&nbsp;&nbsp;**fin**<br>\n",
    "**fin**<br>\n",
    "\n",
    "\n",
    "Le test pour savoir si l'état de l'eau est liquide ou gazeux est fait seulement si l'eau n'est pas solide.\n",
    "\n",
    "### Exemple 6\n",
    "Faire fonctionner plusieurs fois le programme ci-dessous et essayez d'obtenir les trois résultats possibles."
   ]
  },
  {
   "cell_type": "code",
   "execution_count": null,
   "metadata": {},
   "outputs": [],
   "source": [
    "température = eval(input(\"Entrez la température de l'eau : \"))\n",
    "\n",
    "if température <= 0:\n",
    "    print(\"l'eau est solide (gelée)\")\n",
    "else:\n",
    "    # on est ici dans le sinon (condition fausse)\n",
    "    # donc on sait que l'eau n'est pas solide\n",
    "    # température > 0 forcément (pas besoin de vérifier)\n",
    "    # on n'a plus que deux cas à voir\n",
    "    # le code suivant est imbriqué dans les actions du sinon\n",
    "    # parce qu'on le fait seulement si l'eau n'est pas solide\n",
    "    if température < 100:\n",
    "        print(\"l'eau est liquide\")\n",
    "    else:\n",
    "        print(\"l'eau est gaz (vapeur d'eau)\")\n",
    "        "
   ]
  },
  {
   "cell_type": "markdown",
   "metadata": {},
   "source": [
    "### Exercice 5\n",
    "\n",
    "Dans le cadre de code ci-dessous, écrire un programme Python qui demande l'âge de l'utilisateur et qui écrit les phrases suivantes en fonction de son âge.\n",
    "\n",
    "- \"Peut conduire seul\" s'il a le droit de conduire (plus de 18 ans)\n",
    "- \"Peut conduire accompagné\" s'il a entre 15 et 18 ans\n",
    "- \"Ne peut pas conduire\" s'il a moins de 15 ans"
   ]
  },
  {
   "cell_type": "code",
   "execution_count": null,
   "metadata": {},
   "outputs": [],
   "source": [
    "# cadre de code où écrire le programme de l'exercice 5\n"
   ]
  },
  {
   "cell_type": "markdown",
   "metadata": {},
   "source": [
    "Recopiez votre solution de l'exercice 5 sur votre compte-rendu.\n",
    "\n",
    "### Exercice 6\n",
    "\n",
    "Dans le cadre de code ci-dessous, écrire un programme Python qui demande l'âge de l'utilisateur et qui écrit s'il est bébé (0 à 3 ans), enfant (4 à 12 ans), adolescent (13 à 17 ans), adulte (18 à 64 ans), retraité (65 ans et plus)."
   ]
  },
  {
   "cell_type": "code",
   "execution_count": null,
   "metadata": {},
   "outputs": [],
   "source": [
    "# cadre de code où écrire le programme de l'exercice 6\n"
   ]
  },
  {
   "cell_type": "markdown",
   "metadata": {},
   "source": [
    "Recopiez votre solution de l'exercice 6 sur votre compte-rendu."
   ]
  }
 ],
 "metadata": {
  "kernelspec": {
   "display_name": "Python 3",
   "language": "python",
   "name": "python3"
  },
  "language_info": {
   "codemirror_mode": {
    "name": "ipython",
    "version": 3
   },
   "file_extension": ".py",
   "mimetype": "text/x-python",
   "name": "python",
   "nbconvert_exporter": "python",
   "pygments_lexer": "ipython3",
   "version": "3.6.4"
  }
 },
 "nbformat": 4,
 "nbformat_minor": 2
}
