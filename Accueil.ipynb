{
 "cells": [
  {
   "cell_type": "markdown",
   "metadata": {},
   "source": [
    "# Fichier principal pour la seconde\n",
    "\n",
    "Voici le fichier principal du cours. À partir de ce fichier, vous pouvez accéder rapidement à tous les exercices.\n",
    "\n",
    "Nous allons utiliser jupyter qui permet d'avoir dans un fichier html des véritables morceaux de Python.\n",
    "\n",
    "<table><tr><td>Tout repose sur cette barre d'icônes</td><td> <IMG SRC=\"run.png\"></td><td> en haut de cette page.</td></tr>\n",
    "<tr><td></td><td>**run cell, interrupt kernel, restart kernel**</td><td></td></tr></table>\n",
    "\n",
    "L'icône **run cell**, qui est la plus à gauche dans la barre, permet de faire fonctionner une cellule (paragraphe)\n",
    "\n",
    "- Elle permet d'exécuter du code source Python (code).\n",
    "- Elle permet d'afficher correctement les paragraphes d'explications (markdown)\n",
    "\n",
    "L'icône **interrupt kernel**, qui est au centre dans la barre, permet d'arrêter du code Python \"planté\".\n",
    "\n",
    "L'icône **restart kernel**, qui est la plus à droite dans la barre, permet de remettre Python à zéro."
   ]
  },
  {
   "cell_type": "markdown",
   "metadata": {},
   "source": [
    "## Liste des modules\n",
    "\n",
    "[Module1](fichiers/ModulePython1.ipynb) : Ce lien vous emmène vers un TP sur les alternatives (si).\n",
    "\n",
    "[Module2](fichiers/ModulePython2.ipynb) : Ce lien vous emmène vers un TP sur des problèmes mathématiques.\n",
    "\n",
    "[Module3](fichiers/ModulePython3.ipynb) : Ce lien vous emmène vers les boucles (tant que).\n",
    "\n",
    "## La dérive génétique\n",
    "\n",
    "[Module4](fichiers/Escargots.ipynb) : Ce lien vous emmène vers le TP sur la dérive génétique"
   ]
  }
 ],
 "metadata": {
  "kernelspec": {
   "display_name": "Python 3",
   "language": "python",
   "name": "python3"
  },
  "language_info": {
   "codemirror_mode": {
    "name": "ipython",
    "version": 3
   },
   "file_extension": ".py",
   "mimetype": "text/x-python",
   "name": "python",
   "nbconvert_exporter": "python",
   "pygments_lexer": "ipython3",
   "version": "3.6.4"
  }
 },
 "nbformat": 4,
 "nbformat_minor": 2
}
